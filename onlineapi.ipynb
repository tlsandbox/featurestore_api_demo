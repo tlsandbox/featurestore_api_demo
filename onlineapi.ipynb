{
 "cells": [
  {
   "cell_type": "code",
   "execution_count": null,
   "metadata": {},
   "outputs": [],
   "source": [
    "# Define env variables\n",
    "import os\n",
    "PROJECT_NAME = os.getenv(\"PROJECT_NAME\", \"demo_onlineapi\")\n",
    "REFRESH_TOKEN = os.getenv(\"REFRESH_TOKEN\")\n",
    "SPARK_DEPS_JAR = os.getenv(\"SPARK_DEPS_JAR\")"
   ]
  },
  {
   "cell_type": "code",
   "execution_count": null,
   "metadata": {},
   "outputs": [],
   "source": [
    "# Install feature store and other dependencies\n",
    "! pip install pyspark==3.4.1 h2o-featurestore"
   ]
  },
  {
   "cell_type": "code",
   "execution_count": null,
   "metadata": {
    "jupyter": {
     "outputs_hidden": true
    }
   },
   "outputs": [],
   "source": [
    "# configure spark\n",
    "from pyspark.sql import SparkSession\n",
    "\n",
    "spark = SparkSession.builder \\\n",
    "    .master(\"local\") \\\n",
    "    .config(\"spark.jars.packages\", \"org.apache.hadoop:hadoop-aws:3.3.1,io.delta:delta-core_2.12:2.4.0,org.apache.hadoop:hadoop-azure:3.3.1\") \\\n",
    "    .config(\"spark.jars\", SPARK_DEPS_JAR) \\\n",
    "    .config(\"spark.sql.extensions\", \"io.delta.sql.DeltaSparkSessionExtension\") \\\n",
    "    .config(\"spark.sql.catalog.spark_catalog\", \"org.apache.spark.sql.delta.catalog.DeltaCatalog\") \\\n",
    "    .getOrCreate()\n",
    "\n",
    "spark.sparkContext.setLogLevel(\"ERROR\")"
   ]
  },
  {
   "cell_type": "code",
   "execution_count": null,
   "metadata": {},
   "outputs": [],
   "source": [
    "spark"
   ]
  },
  {
   "cell_type": "code",
   "execution_count": null,
   "metadata": {},
   "outputs": [],
   "source": [
    "# Login and client initialization\n",
    "from featurestore import *\n",
    "client = Client(API, secure=True)\n",
    "client.auth.set_auth_token(REFRESH_TOKEN)"
   ]
  },
  {
   "cell_type": "code",
   "execution_count": null,
   "metadata": {},
   "outputs": [],
   "source": [
    "# Define credentials \n",
    "S3_ACCESS_KEY = os.getenv(\"S3_ACCESS_KEY\")\n",
    "S3_SECRET_KEY = os.getenv(\"S3_SECRET_KEY\")\n",
    "S3_REGION = os.getenv(\"S3_REGION\")\n",
    "credentials = S3Credentials(S3_ACCESS_KEY, S3_SECRET_KEY, S3_REGION)"
   ]
  },
  {
   "cell_type": "markdown",
   "metadata": {},
   "source": [
    "### Create a Project"
   ]
  },
  {
   "cell_type": "code",
   "execution_count": null,
   "metadata": {
    "jupyter": {
     "outputs_hidden": true
    },
    "pycharm": {
     "is_executing": true
    },
    "tags": []
   },
   "outputs": [],
   "source": [
    "project = client.projects.create(PROJECT_NAME)"
   ]
  },
  {
   "cell_type": "code",
   "execution_count": null,
   "metadata": {},
   "outputs": [],
   "source": [
    "# Specify a data source\n",
    "source = CSVFile(\"s3a://h2o-public-test-data/end-to-end-notebook-demo/bank-marketing.csv\")"
   ]
  },
  {
   "cell_type": "markdown",
   "metadata": {},
   "source": [
    "### Extract Schema from the source"
   ]
  },
  {
   "cell_type": "code",
   "execution_count": null,
   "metadata": {
    "jupyter": {
     "outputs_hidden": true
    }
   },
   "outputs": [],
   "source": [
    "schema = client.extract_schema_from_source(source, credentials)"
   ]
  },
  {
   "cell_type": "markdown",
   "metadata": {},
   "source": [
    "### Create a Feature set"
   ]
  },
  {
   "cell_type": "code",
   "execution_count": null,
   "metadata": {
    "jupyter": {
     "outputs_hidden": true
    }
   },
   "outputs": [],
   "source": [
    "fs = project.feature_sets.register(schema, \"fs_bank_marketing_online\")"
   ]
  },
  {
   "cell_type": "markdown",
   "metadata": {},
   "source": [
    "### Ingest data into the feature set"
   ]
  },
  {
   "cell_type": "code",
   "execution_count": null,
   "metadata": {
    "jupyter": {
     "outputs_hidden": true
    }
   },
   "outputs": [],
   "source": [
    "fs.ingest(source, credentials)"
   ]
  },
  {
   "cell_type": "markdown",
   "metadata": {},
   "source": [
    "### Retrieve features as a spark dataframe"
   ]
  },
  {
   "cell_type": "code",
   "execution_count": null,
   "metadata": {
    "jupyter": {
     "outputs_hidden": true
    }
   },
   "outputs": [],
   "source": [
    "ref = fs.retrieve()\n",
    "ref.as_spark_frame(spark)"
   ]
  },
  {
   "cell_type": "markdown",
   "metadata": {},
   "source": [
    "## Online API"
   ]
  },
  {
   "cell_type": "code",
   "execution_count": null,
   "metadata": {
    "jupyter": {
     "outputs_hidden": true
    },
    "tags": []
   },
   "outputs": [],
   "source": [
    "# Create a new featureset \n",
    "project.feature_sets.register(schema, \"derived_fs_bank_marketing_online\", primary_key=\"duration\")"
   ]
  },
  {
   "cell_type": "markdown",
   "metadata": {},
   "source": [
    "### Ingest row to online featurestore"
   ]
  },
  {
   "cell_type": "code",
   "execution_count": null,
   "metadata": {},
   "outputs": [],
   "source": [
    "# Input a new json row to online store\n",
    "import json\n",
    "input = {\n",
    "    \"age\": 30,\n",
    "    \"job\": \"admin\",\n",
    "    \"marital\": \"married\",\n",
    "    \"education\": \"university.degree\",\n",
    "    \"default\": \"no\",\n",
    "    \"housing\": \"yes\",\n",
    "    \"loan\": \"no\",\n",
    "    \"contact\": \"email\",\n",
    "    \"month\": \"november\",\n",
    "    \"day_of_week\": \"wed\",\n",
    "    \"duration\": 200,\n",
    "    \"campaign\": 1,\n",
    "    \"pdays\": 1300,\n",
    "    \"previous\": 0, \n",
    "    \"poutcome\": \"nonexistent\",\n",
    "    \"emp.var.rate\": 1.1,\n",
    "    \"cons.price.idx\": 93.994,\n",
    "    \"cons.conf.idx\": -35.0,\n",
    "    \"euribor3m\": 2.323,\n",
    "    \"nr.employed\": 5000,\n",
    "    \"y\": \"no\"\n",
    "    }\n",
    "online_data = json.dumps(input)"
   ]
  },
  {
   "cell_type": "code",
   "execution_count": null,
   "metadata": {
    "jupyter": {
     "outputs_hidden": true
    },
    "tags": []
   },
   "outputs": [],
   "source": [
    "# Ingest a single json row to Online Feature store\n",
    "fs = project.feature_sets.get(\"derived_fs_bank_marketing_online\")\n",
    "fs.ingest_online(online_data)\n",
    "fs"
   ]
  },
  {
   "cell_type": "markdown",
   "metadata": {},
   "source": [
    "### Retrieve data from the online featurestore"
   ]
  },
  {
   "cell_type": "code",
   "execution_count": null,
   "metadata": {},
   "outputs": [],
   "source": [
    "# Retrieve from online feature store as a payload to model\n",
    "import json\n",
    "import time\n",
    "# wait before retrieving - ingesting to online is async and cannot be available right away\n",
    "time.sleep(2)\n",
    "marketing_row = json.loads(online_data)\n",
    "start = time.perf_counter()\n",
    "payload = fs.retrieve_online(marketing_row['duration'])\n",
    "end = time.perf_counter()\n",
    "print(f\"Retrieved in {end - start:0.4f} seconds\")\n",
    "payload"
   ]
  },
  {
   "cell_type": "markdown",
   "metadata": {},
   "source": [
    "## Cleanups"
   ]
  },
  {
   "cell_type": "code",
   "execution_count": null,
   "metadata": {
    "tags": []
   },
   "outputs": [],
   "source": [
    "client.projects.get(PROJECT_NAME).delete()"
   ]
  }
 ],
 "metadata": {
  "celltoolbar": "Tags",
  "kernelspec": {
   "display_name": "Python 3",
   "language": "python",
   "name": "python3"
  },
  "language_info": {
   "codemirror_mode": {
    "name": "ipython",
    "version": 3
   },
   "file_extension": ".py",
   "mimetype": "text/x-python",
   "name": "python",
   "nbconvert_exporter": "python",
   "pygments_lexer": "ipython3",
   "version": "3.7.2"
  }
 },
 "nbformat": 4,
 "nbformat_minor": 4
}
