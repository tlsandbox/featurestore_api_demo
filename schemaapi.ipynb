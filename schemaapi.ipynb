{
 "cells": [
  {
   "cell_type": "code",
   "execution_count": null,
   "metadata": {},
   "outputs": [],
   "source": [
    "# Preparation -> Define variables\n",
    "import os\n",
    "PROJECT_NAME = os.getenv(\"PROJECT_NAME\", \"demo_schemaapi\")\n",
    "REFRESH_TOKEN = os.getenv(\"REFRESH_TOKEN\")"
   ]
  },
  {
   "cell_type": "code",
   "execution_count": null,
   "metadata": {},
   "outputs": [],
   "source": [
    "# Login and authenticate\n",
    "from featurestore import *\n",
    "client = Client(API, secure=True)\n",
    "client.auth.set_auth_token(REFRESH_TOKEN)"
   ]
  },
  {
   "cell_type": "code",
   "execution_count": null,
   "metadata": {},
   "outputs": [],
   "source": [
    "# Define Credentials\n",
    "S3_ACCESS_KEY = os.getenv(\"S3_ACCESS_KEY\")\n",
    "S3_SECRET_KEY = os.getenv(\"S3_SECRET_KEY\")\n",
    "S3_REGION = os.getenv(\"S3_REGION\")\n",
    "credentials = S3Credentials(S3_ACCESS_KEY, S3_SECRET_KEY, S3_REGION)\n"
   ]
  },
  {
   "cell_type": "code",
   "execution_count": null,
   "metadata": {
    "collapsed": false,
    "jupyter": {
     "outputs_hidden": false
    }
   },
   "outputs": [],
   "source": [
    "# project will be deleted if there exists already\n",
    "try:\n",
    "    client.projects.get(PROJECT_NAME).delete()\n",
    "except:\n",
    "    pass"
   ]
  },
  {
   "cell_type": "markdown",
   "metadata": {},
   "source": [
    "## Schema API"
   ]
  },
  {
   "cell_type": "code",
   "execution_count": null,
   "metadata": {},
   "outputs": [],
   "source": [
    "# Create a project\n",
    "project = client.projects.create(PROJECT_NAME)"
   ]
  },
  {
   "cell_type": "code",
   "execution_count": null,
   "metadata": {},
   "outputs": [],
   "source": [
    "# Specify input data source\n",
    "source = CSVFile(\"s3a://feature-store-test-data/duplicate_match/combined_match.csv\")"
   ]
  },
  {
   "cell_type": "code",
   "execution_count": null,
   "metadata": {},
   "outputs": [],
   "source": [
    "# Extract the schema from datasource\n",
    "schema = client.extract_schema_from_source(source, credentials)"
   ]
  },
  {
   "cell_type": "code",
   "execution_count": null,
   "metadata": {},
   "outputs": [],
   "source": [
    "# Display schema as a string\n",
    "str_schema = schema.to_string()\n",
    "str_schema"
   ]
  },
  {
   "cell_type": "code",
   "execution_count": null,
   "metadata": {},
   "outputs": [],
   "source": [
    "# Add description to the features in a schema \n",
    "schema[\"given_name_jw\"].description = \"string distance between original and duplicate given_name\"\n",
    "schema[\"address_1_jw\"].description = \"string distance between original and duplicate of address1\"\n",
    "schema[\"address_2_jw\"].description = \"string distance between original and duplicate of address2\""
   ]
  },
  {
   "cell_type": "code",
   "execution_count": null,
   "metadata": {},
   "outputs": [],
   "source": [
    "# Update special data on features in schema \n",
    "schema[\"soc_sec_id_orig\"].special_data.sensitive = True\n",
    "schema[\"soc_sec_id_dup\"].special_data.sensitive = True\n",
    "schema[\"date_of_birth_orig\"].special_data.sensitive = True\n",
    "schema[\"date_of_birth_dup\"].special_data.sensitive = True"
   ]
  },
  {
   "cell_type": "code",
   "execution_count": null,
   "metadata": {},
   "outputs": [],
   "source": [
    "# Register feature set based on the schema\n",
    "project.feature_sets.register(schema, \"fs_schema_api\")"
   ]
  },
  {
   "cell_type": "code",
   "execution_count": null,
   "metadata": {},
   "outputs": [],
   "source": [
    "# list features and see that values from schema are propagated to the features\n",
    "fs = project.feature_sets.get(\"fs_schema_api\")\n",
    "fs.features"
   ]
  },
  {
   "cell_type": "markdown",
   "metadata": {},
   "source": [
    "## Cleanups"
   ]
  },
  {
   "cell_type": "code",
   "execution_count": null,
   "metadata": {},
   "outputs": [],
   "source": [
    "client.projects.get(PROJECT_NAME).delete()\n"
   ]
  }
 ],
 "metadata": {
  "celltoolbar": "Tags",
  "kernelspec": {
   "display_name": "Python 3 (ipykernel)",
   "language": "python",
   "name": "python3"
  },
  "language_info": {
   "codemirror_mode": {
    "name": "ipython",
    "version": 3
   },
   "file_extension": ".py",
   "mimetype": "text/x-python",
   "name": "python",
   "nbconvert_exporter": "python",
   "pygments_lexer": "ipython3",
   "version": "3.10.5"
  }
 },
 "nbformat": 4,
 "nbformat_minor": 4
}